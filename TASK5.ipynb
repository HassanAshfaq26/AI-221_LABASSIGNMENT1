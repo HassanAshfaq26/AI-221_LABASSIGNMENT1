{
 "cells": [
  {
   "cell_type": "code",
   "execution_count": 1,
   "id": "895ba961",
   "metadata": {},
   "outputs": [],
   "source": [
    "# TASK 5"
   ]
  },
  {
   "cell_type": "code",
   "execution_count": null,
   "id": "fec5365b",
   "metadata": {},
   "outputs": [],
   "source": [
    "import networkx as nx\n",
    "import matplotlib.pyplot as plt\n",
    "\n",
    "g=nx.Graph()\n",
    "\n",
    "g.add_node(\"Arad\",pos=(0.4,0.4))\n",
    "g.add_edge(\"Arad\",\"Zarind\",pos=(0.4,0.4))\n",
    "g.add_edge(\"Arad\",\"Timisoara\",pos=(0.4,0.4))\n",
    "g.add_edge(\"Arad\",\"Sibiu\",pos=(0.4,0.4))\n",
    "g.add_edge(\"Arad\",\"Sibiu\",pos=(0.4,0.4))\n",
    "g.add_edge(\"Zarind\",\"Oradea\")\n",
    "g.add_edge(\"Timisoara\",\"Lugoj\")\n",
    "g.add_edge(\"Sibiu\",\"Oradea\")\n",
    "g.add_edge(\"Sibiu\",\"Fagaras\")\n",
    "g.add_edge(\"Sibiu\",\"Riminiciu\")\n",
    "g.add_edge(\"Lugoj\",\"Mehadia\")\n",
    "g.add_edge(\"Fagaras\",\"Bucharest\")\n",
    "g.add_edge(\"Riminiciu\",\"Pitesti\")\n",
    "g.add_edge(\"Riminiciu\",\"Craiova\")\n",
    "g.add_edge(\"Mehadia\",\"Dobreta\")\n",
    "g.add_edge(\"Bucharest\",\"Pitesti\")\n",
    "g.add_edge(\"Bucharest\",\"Girugiu\")\n",
    "g.add_edge(\"Bucharest\",\"Urzeicni\")\n",
    "g.add_edge(\"Dobreta\",\"Craiova\")\n",
    "g.add_edge(\"Urzeicni\",\"Hirsova\")\n",
    "g.add_edge(\"Urzeicni\",\"Vaslui\")\n",
    "g.add_edge(\"Eforie\",\"Hirsova\")\n",
    "g.add_edge(\"Vaslui\",\"lassi\")\n",
    "g.add_edge(\"lassi\",\"Neamt\")\n",
    "\n",
    "print(nx.info(g))\n",
    "\n",
    "nx.draw(g,with_labels=True)\n",
    "\n",
    "plt.show()"
   ]
  },
  {
   "cell_type": "code",
   "execution_count": null,
   "id": "f526f1d0",
   "metadata": {},
   "outputs": [],
   "source": []
  }
 ],
 "metadata": {
  "kernelspec": {
   "display_name": "Python 3 (ipykernel)",
   "language": "python",
   "name": "python3"
  },
  "language_info": {
   "codemirror_mode": {
    "name": "ipython",
    "version": 3
   },
   "file_extension": ".py",
   "mimetype": "text/x-python",
   "name": "python",
   "nbconvert_exporter": "python",
   "pygments_lexer": "ipython3",
   "version": "3.11.1"
  }
 },
 "nbformat": 4,
 "nbformat_minor": 5
}
