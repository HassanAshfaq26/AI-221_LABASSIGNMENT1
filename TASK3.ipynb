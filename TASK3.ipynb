{
 "cells": [
  {
   "cell_type": "code",
   "execution_count": 1,
   "id": "347c258a",
   "metadata": {},
   "outputs": [],
   "source": [
    "# TASK 3 VISUALIZATION USING THE BINARY TREE LIBRARY"
   ]
  },
  {
   "cell_type": "code",
   "execution_count": 2,
   "id": "4ba9c0a3",
   "metadata": {},
   "outputs": [
    {
     "name": "stdout",
     "output_type": "stream",
     "text": [
      "\n",
      "         ____2_______\n",
      "        /            \\\n",
      "    ___10           __9\n",
      "   /     \\         /   \\\n",
      "  1       14     _8     3\n",
      " / \\            /  \\\n",
      "4   13         12   6\n",
      "\n"
     ]
    }
   ],
   "source": [
    "from binarytree import tree, bst, heap\n",
    "\n",
    "# Generate a random binary tree and return its root node.\n",
    "my_tree = tree(height=3, is_perfect=False)\n",
    "\n",
    "# Generate a random BST and return its root node.\n",
    "my_bst = bst(height=3, is_perfect=True)\n",
    "\n",
    "# Generate a random max heap and return its root node.\n",
    "my_heap = heap(height=3, is_max=True, is_perfect=False)\n",
    "\n",
    "# Pretty-print the trees in stdout.\n",
    "print(my_tree)"
   ]
  },
  {
   "cell_type": "code",
   "execution_count": 3,
   "id": "e18251a2",
   "metadata": {},
   "outputs": [
    {
     "name": "stdout",
     "output_type": "stream",
     "text": [
      "\n",
      "          ________________60___\n",
      "         /                     \\\n",
      "    ____15______               _75___\n",
      "   /            \\             /      \\\n",
      "  10            _25          70      _80\n",
      " /  \\          /   \\                /   \\\n",
      "5    12      _23    26             77    92\n",
      "            /         \\\n",
      "           21          30\n",
      "\n"
     ]
    }
   ],
   "source": [
    "from binarytree import build\n",
    "\n",
    "# Build a tree from list representation\n",
    "values = [60,15,75,10,25,70,80,5,12,23,26,None,None,77,92,None,None,None,None,21,None,None,30]\n",
    "root = build(values)\n",
    "print(root)\n"
   ]
  },
  {
   "cell_type": "code",
   "execution_count": 4,
   "id": "2a5d7999",
   "metadata": {},
   "outputs": [
    {
     "name": "stdout",
     "output_type": "stream",
     "text": [
      "\n",
      "          ________________60___\n",
      "         /                     \\\n",
      "    ____15______               _75___\n",
      "   /            \\             /      \\\n",
      "  10            _25          70      _80\n",
      " /  \\          /   \\                /   \\\n",
      "5    12      _23    26             77    92\n",
      "            /         \\\n",
      "           21          30\n",
      "\n"
     ]
    }
   ],
   "source": [
    "from binarytree import Node\n",
    "\n",
    "root = Node(60)\n",
    "root.left = Node(15)\n",
    "root.right = Node(75)\n",
    "root.left.left = Node(10)\n",
    "root.left.right = Node(25)\n",
    "root.left.left.left = Node(5)\n",
    "root.left.left.right = Node(12)\n",
    "root.left.right.left = Node(23)\n",
    "root.left.right.right = Node(26)\n",
    "root.left.right.left.left = Node(21)\n",
    "root.left.right.right.right = Node(30)\n",
    "root.right.left = Node(70)\n",
    "root.right.right = Node(80)\n",
    "root.right.right.left = Node(77)\n",
    "root.right.right.right = Node(92)\n",
    "\n",
    "print(root)"
   ]
  },
  {
   "cell_type": "code",
   "execution_count": 5,
   "id": "489ab748",
   "metadata": {},
   "outputs": [
    {
     "name": "stdout",
     "output_type": "stream",
     "text": [
      "Requirement already satisfied: anytree in c:\\users\\hassan ashfaq\\appdata\\local\\programs\\python\\python311\\lib\\site-packages (2.8.0)Note: you may need to restart the kernel to use updated packages.\n",
      "\n",
      "Requirement already satisfied: six>=1.9.0 in c:\\users\\hassan ashfaq\\appdata\\local\\programs\\python\\python311\\lib\\site-packages (from anytree) (1.16.0)\n"
     ]
    }
   ],
   "source": [
    "pip install anytree"
   ]
  },
  {
   "cell_type": "code",
   "execution_count": 6,
   "id": "1a75aee5",
   "metadata": {},
   "outputs": [],
   "source": [
    " from anytree import Node, RenderTree\n",
    " udo = Node(\"Udo\")\n",
    " marc = Node(\"Marc\", parent=udo)\n",
    " lian = Node(\"Lian\", parent=marc)\n",
    " dan = Node(\"Dan\", parent=udo)\n",
    " jet = Node(\"Jet\", parent=dan)\n",
    " jan = Node(\"Jan\", parent=dan)\n",
    " joe = Node(\"Joe\", parent=dan)"
   ]
  },
  {
   "cell_type": "code",
   "execution_count": 7,
   "id": "dc9ab124",
   "metadata": {},
   "outputs": [
    {
     "name": "stdout",
     "output_type": "stream",
     "text": [
      "Node('/Udo')\n",
      "Node('/Udo/Dan/Joe')\n"
     ]
    }
   ],
   "source": [
    " print(udo)\n",
    " print(joe)"
   ]
  },
  {
   "cell_type": "code",
   "execution_count": 8,
   "id": "d1ccb7e5",
   "metadata": {},
   "outputs": [
    {
     "name": "stdout",
     "output_type": "stream",
     "text": [
      "Udo\n",
      "├── Marc\n",
      "│   └── Lian\n",
      "└── Dan\n",
      "    ├── Jet\n",
      "    ├── Jan\n",
      "    └── Joe\n"
     ]
    }
   ],
   "source": [
    "for pre, fill, node in RenderTree(udo):\n",
    "   print(\"%s%s\" % (pre, node.name))"
   ]
  },
  {
   "cell_type": "code",
   "execution_count": 10,
   "id": "dae2d0d1",
   "metadata": {},
   "outputs": [],
   "source": [
    "from anytree import Node,RenderTree"
   ]
  },
  {
   "cell_type": "code",
   "execution_count": 11,
   "id": "9f69b07a",
   "metadata": {},
   "outputs": [],
   "source": [
    "A= Node(\"A\")\n",
    "B=Node(\"B\",parent=A)\n",
    "C=Node(\"C\",parent=A)\n",
    "D=Node(\"D\",parent=B)\n",
    "E=Node(\"E\",parent=B)\n",
    "F=Node(\"F\",parent=C)\n",
    "G=Node(\"G\",parent=C)\n",
    "H=Node(\"H\",parent=D)\n",
    "I=Node(\"I\",parent=D)\n",
    "J=Node(\"J\",parent=E)\n",
    "K=Node(\"K\",parent=E)\n",
    "L=Node(\"L\",parent=G)\n",
    "M=Node(\"M\",parent=G)\n",
    "N=Node(\"N\",parent=J)\n",
    "O=Node(\"O\",parent=K)"
   ]
  },
  {
   "cell_type": "code",
   "execution_count": 12,
   "id": "a5eb7806",
   "metadata": {},
   "outputs": [
    {
     "name": "stdout",
     "output_type": "stream",
     "text": [
      "Node('/A')\n",
      "├── Node('/A/B')\n",
      "│   ├── Node('/A/B/D')\n",
      "│   │   ├── Node('/A/B/D/H')\n",
      "│   │   └── Node('/A/B/D/I')\n",
      "│   └── Node('/A/B/E')\n",
      "│       ├── Node('/A/B/E/J')\n",
      "│       │   └── Node('/A/B/E/J/N')\n",
      "│       └── Node('/A/B/E/K')\n",
      "│           └── Node('/A/B/E/K/O')\n",
      "└── Node('/A/C')\n",
      "    ├── Node('/A/C/F')\n",
      "    └── Node('/A/C/G')\n",
      "        ├── Node('/A/C/G/L')\n",
      "        └── Node('/A/C/G/M')\n"
     ]
    }
   ],
   "source": [
    "print(RenderTree(A))"
   ]
  },
  {
   "cell_type": "code",
   "execution_count": 13,
   "id": "0d30d640",
   "metadata": {},
   "outputs": [],
   "source": [
    "from anytree.exporter import DotExporter"
   ]
  },
  {
   "cell_type": "code",
   "execution_count": null,
   "id": "ceafff67",
   "metadata": {},
   "outputs": [],
   "source": [
    "pip install graphviz"
   ]
  },
  {
   "cell_type": "code",
   "execution_count": 15,
   "id": "37c40650",
   "metadata": {},
   "outputs": [
    {
     "name": "stdout",
     "output_type": "stream",
     "text": [
      "Note: you may need to restart the kernel to use updated packages.\n"
     ]
    },
    {
     "name": "stderr",
     "output_type": "stream",
     "text": [
      "ERROR: Could not find a version that satisfies the requirement python-graphviz (from versions: none)\n",
      "ERROR: No matching distribution found for python-graphviz\n"
     ]
    }
   ],
   "source": [
    "pip install python-graphviz"
   ]
  },
  {
   "cell_type": "code",
   "execution_count": null,
   "id": "5a7a15c5",
   "metadata": {},
   "outputs": [],
   "source": [
    "from anytree.exporter import DotExporter"
   ]
  },
  {
   "cell_type": "code",
   "execution_count": null,
   "id": "c7bfb8bf",
   "metadata": {},
   "outputs": [],
   "source": [
    " from anytree import Node, RenderTree\n",
    " udo = Node(\"Udo\")\n",
    " marc = Node(\"Marc\", parent=udo)\n",
    " lian = Node(\"Lian\", parent=marc)\n",
    " dan = Node(\"Dan\", parent=udo)\n",
    " jet = Node(\"Jet\", parent=dan)\n",
    " jan = Node(\"Jan\", parent=dan)\n",
    " joe = Node(\"Joe\", parent=dan)"
   ]
  },
  {
   "cell_type": "code",
   "execution_count": null,
   "id": "9ebd76fb",
   "metadata": {},
   "outputs": [],
   "source": [
    " print(udo)\n",
    " print(joe)\n"
   ]
  },
  {
   "cell_type": "code",
   "execution_count": null,
   "id": "f5a3287f",
   "metadata": {},
   "outputs": [],
   "source": [
    " for pre, fill, node in RenderTree(udo):\n",
    "        print(\"%s%s\" % (pre, node.name))\n",
    " "
   ]
  },
  {
   "cell_type": "code",
   "execution_count": 2,
   "id": "b0aa959f",
   "metadata": {},
   "outputs": [],
   "source": [
    " from anytree import Node, RenderTree\n",
    " udo = Node(\"Udo\")\n",
    " marc = Node(\"Marc\", parent=udo)\n",
    " lian = Node(\"Lian\", parent=marc)\n",
    " dan = Node(\"Dan\", parent=udo)\n",
    " jet = Node(\"Jet\", parent=dan)\n",
    " jan = Node(\"Jan\", parent=dan)\n",
    " joe = Node(\"Joe\", parent=dan)\n"
   ]
  },
  {
   "cell_type": "code",
   "execution_count": 3,
   "id": "01dbacbb",
   "metadata": {},
   "outputs": [
    {
     "name": "stdout",
     "output_type": "stream",
     "text": [
      "Node('/Udo')\n",
      "Node('/Udo/Dan/Joe')\n"
     ]
    }
   ],
   "source": [
    "print(udo)\n",
    "print(joe)"
   ]
  },
  {
   "cell_type": "code",
   "execution_count": 4,
   "id": "37d833d4",
   "metadata": {},
   "outputs": [
    {
     "name": "stdout",
     "output_type": "stream",
     "text": [
      "Udo\n",
      "├── Marc\n",
      "│   └── Lian\n",
      "└── Dan\n",
      "    ├── Jet\n",
      "    ├── Jan\n",
      "    └── Joe\n"
     ]
    }
   ],
   "source": [
    "for pre, fill, node in RenderTree(udo):\n",
    "    print(\"%s%s\" % (pre, node.name))\n",
    "   "
   ]
  },
  {
   "cell_type": "code",
   "execution_count": 18,
   "id": "5f5bd234",
   "metadata": {},
   "outputs": [
    {
     "name": "stdout",
     "output_type": "stream",
     "text": [
      "Requirement already satisfied: graphviz in c:\\users\\hassan ashfaq\\appdata\\local\\programs\\python\\python311\\lib\\site-packages (0.20.1)Note: you may need to restart the kernel to use updated packages.\n",
      "\n"
     ]
    }
   ],
   "source": [
    "pip install graphviz"
   ]
  },
  {
   "cell_type": "code",
   "execution_count": 6,
   "id": "ce8e4a7f",
   "metadata": {},
   "outputs": [],
   "source": [
    "from anytree.exporter import DotExporter\n"
   ]
  },
  {
   "cell_type": "code",
   "execution_count": 7,
   "id": "8aed4329",
   "metadata": {},
   "outputs": [
    {
     "ename": "FileNotFoundError",
     "evalue": "[WinError 2] The system cannot find the file specified",
     "output_type": "error",
     "traceback": [
      "\u001b[1;31m---------------------------------------------------------------------------\u001b[0m",
      "\u001b[1;31mFileNotFoundError\u001b[0m                         Traceback (most recent call last)",
      "Cell \u001b[1;32mIn[7], line 1\u001b[0m\n\u001b[1;32m----> 1\u001b[0m \u001b[43mDotExporter\u001b[49m\u001b[43m(\u001b[49m\u001b[43mudo\u001b[49m\u001b[43m)\u001b[49m\u001b[38;5;241;43m.\u001b[39;49m\u001b[43mto_picture\u001b[49m\u001b[43m(\u001b[49m\u001b[38;5;124;43m\"\u001b[39;49m\u001b[38;5;124;43mudo.png\u001b[39;49m\u001b[38;5;124;43m\"\u001b[39;49m\u001b[43m)\u001b[49m\n",
      "File \u001b[1;32m~\\AppData\\Local\\Programs\\Python\\Python311\\Lib\\site-packages\\anytree\\exporter\\dotexporter.py:272\u001b[0m, in \u001b[0;36mDotExporter.to_picture\u001b[1;34m(self, filename)\u001b[0m\n\u001b[0;32m    270\u001b[0m     dotfile\u001b[38;5;241m.\u001b[39mflush()\n\u001b[0;32m    271\u001b[0m     cmd \u001b[38;5;241m=\u001b[39m [\u001b[38;5;124m\"\u001b[39m\u001b[38;5;124mdot\u001b[39m\u001b[38;5;124m\"\u001b[39m, dotfilename, \u001b[38;5;124m\"\u001b[39m\u001b[38;5;124m-T\u001b[39m\u001b[38;5;124m\"\u001b[39m, fileformat, \u001b[38;5;124m\"\u001b[39m\u001b[38;5;124m-o\u001b[39m\u001b[38;5;124m\"\u001b[39m, filename]\n\u001b[1;32m--> 272\u001b[0m     \u001b[43mcheck_call\u001b[49m\u001b[43m(\u001b[49m\u001b[43mcmd\u001b[49m\u001b[43m)\u001b[49m\n\u001b[0;32m    273\u001b[0m \u001b[38;5;28;01mtry\u001b[39;00m:\n\u001b[0;32m    274\u001b[0m     remove(dotfilename)\n",
      "File \u001b[1;32m~\\AppData\\Local\\Programs\\Python\\Python311\\Lib\\subprocess.py:408\u001b[0m, in \u001b[0;36mcheck_call\u001b[1;34m(*popenargs, **kwargs)\u001b[0m\n\u001b[0;32m    398\u001b[0m \u001b[38;5;28;01mdef\u001b[39;00m \u001b[38;5;21mcheck_call\u001b[39m(\u001b[38;5;241m*\u001b[39mpopenargs, \u001b[38;5;241m*\u001b[39m\u001b[38;5;241m*\u001b[39mkwargs):\n\u001b[0;32m    399\u001b[0m     \u001b[38;5;124;03m\"\"\"Run command with arguments.  Wait for command to complete.  If\u001b[39;00m\n\u001b[0;32m    400\u001b[0m \u001b[38;5;124;03m    the exit code was zero then return, otherwise raise\u001b[39;00m\n\u001b[0;32m    401\u001b[0m \u001b[38;5;124;03m    CalledProcessError.  The CalledProcessError object will have the\u001b[39;00m\n\u001b[1;32m   (...)\u001b[0m\n\u001b[0;32m    406\u001b[0m \u001b[38;5;124;03m    check_call([\"ls\", \"-l\"])\u001b[39;00m\n\u001b[0;32m    407\u001b[0m \u001b[38;5;124;03m    \"\"\"\u001b[39;00m\n\u001b[1;32m--> 408\u001b[0m     retcode \u001b[38;5;241m=\u001b[39m \u001b[43mcall\u001b[49m\u001b[43m(\u001b[49m\u001b[38;5;241;43m*\u001b[39;49m\u001b[43mpopenargs\u001b[49m\u001b[43m,\u001b[49m\u001b[43m \u001b[49m\u001b[38;5;241;43m*\u001b[39;49m\u001b[38;5;241;43m*\u001b[39;49m\u001b[43mkwargs\u001b[49m\u001b[43m)\u001b[49m\n\u001b[0;32m    409\u001b[0m     \u001b[38;5;28;01mif\u001b[39;00m retcode:\n\u001b[0;32m    410\u001b[0m         cmd \u001b[38;5;241m=\u001b[39m kwargs\u001b[38;5;241m.\u001b[39mget(\u001b[38;5;124m\"\u001b[39m\u001b[38;5;124margs\u001b[39m\u001b[38;5;124m\"\u001b[39m)\n",
      "File \u001b[1;32m~\\AppData\\Local\\Programs\\Python\\Python311\\Lib\\subprocess.py:389\u001b[0m, in \u001b[0;36mcall\u001b[1;34m(timeout, *popenargs, **kwargs)\u001b[0m\n\u001b[0;32m    381\u001b[0m \u001b[38;5;28;01mdef\u001b[39;00m \u001b[38;5;21mcall\u001b[39m(\u001b[38;5;241m*\u001b[39mpopenargs, timeout\u001b[38;5;241m=\u001b[39m\u001b[38;5;28;01mNone\u001b[39;00m, \u001b[38;5;241m*\u001b[39m\u001b[38;5;241m*\u001b[39mkwargs):\n\u001b[0;32m    382\u001b[0m     \u001b[38;5;124;03m\"\"\"Run command with arguments.  Wait for command to complete or\u001b[39;00m\n\u001b[0;32m    383\u001b[0m \u001b[38;5;124;03m    timeout, then return the returncode attribute.\u001b[39;00m\n\u001b[0;32m    384\u001b[0m \n\u001b[1;32m   (...)\u001b[0m\n\u001b[0;32m    387\u001b[0m \u001b[38;5;124;03m    retcode = call([\"ls\", \"-l\"])\u001b[39;00m\n\u001b[0;32m    388\u001b[0m \u001b[38;5;124;03m    \"\"\"\u001b[39;00m\n\u001b[1;32m--> 389\u001b[0m     \u001b[38;5;28;01mwith\u001b[39;00m \u001b[43mPopen\u001b[49m\u001b[43m(\u001b[49m\u001b[38;5;241;43m*\u001b[39;49m\u001b[43mpopenargs\u001b[49m\u001b[43m,\u001b[49m\u001b[43m \u001b[49m\u001b[38;5;241;43m*\u001b[39;49m\u001b[38;5;241;43m*\u001b[39;49m\u001b[43mkwargs\u001b[49m\u001b[43m)\u001b[49m \u001b[38;5;28;01mas\u001b[39;00m p:\n\u001b[0;32m    390\u001b[0m         \u001b[38;5;28;01mtry\u001b[39;00m:\n\u001b[0;32m    391\u001b[0m             \u001b[38;5;28;01mreturn\u001b[39;00m p\u001b[38;5;241m.\u001b[39mwait(timeout\u001b[38;5;241m=\u001b[39mtimeout)\n",
      "File \u001b[1;32m~\\AppData\\Local\\Programs\\Python\\Python311\\Lib\\subprocess.py:1024\u001b[0m, in \u001b[0;36mPopen.__init__\u001b[1;34m(self, args, bufsize, executable, stdin, stdout, stderr, preexec_fn, close_fds, shell, cwd, env, universal_newlines, startupinfo, creationflags, restore_signals, start_new_session, pass_fds, user, group, extra_groups, encoding, errors, text, umask, pipesize, process_group)\u001b[0m\n\u001b[0;32m   1020\u001b[0m         \u001b[38;5;28;01mif\u001b[39;00m \u001b[38;5;28mself\u001b[39m\u001b[38;5;241m.\u001b[39mtext_mode:\n\u001b[0;32m   1021\u001b[0m             \u001b[38;5;28mself\u001b[39m\u001b[38;5;241m.\u001b[39mstderr \u001b[38;5;241m=\u001b[39m io\u001b[38;5;241m.\u001b[39mTextIOWrapper(\u001b[38;5;28mself\u001b[39m\u001b[38;5;241m.\u001b[39mstderr,\n\u001b[0;32m   1022\u001b[0m                     encoding\u001b[38;5;241m=\u001b[39mencoding, errors\u001b[38;5;241m=\u001b[39merrors)\n\u001b[1;32m-> 1024\u001b[0m     \u001b[38;5;28;43mself\u001b[39;49m\u001b[38;5;241;43m.\u001b[39;49m\u001b[43m_execute_child\u001b[49m\u001b[43m(\u001b[49m\u001b[43margs\u001b[49m\u001b[43m,\u001b[49m\u001b[43m \u001b[49m\u001b[43mexecutable\u001b[49m\u001b[43m,\u001b[49m\u001b[43m \u001b[49m\u001b[43mpreexec_fn\u001b[49m\u001b[43m,\u001b[49m\u001b[43m \u001b[49m\u001b[43mclose_fds\u001b[49m\u001b[43m,\u001b[49m\n\u001b[0;32m   1025\u001b[0m \u001b[43m                        \u001b[49m\u001b[43mpass_fds\u001b[49m\u001b[43m,\u001b[49m\u001b[43m \u001b[49m\u001b[43mcwd\u001b[49m\u001b[43m,\u001b[49m\u001b[43m \u001b[49m\u001b[43menv\u001b[49m\u001b[43m,\u001b[49m\n\u001b[0;32m   1026\u001b[0m \u001b[43m                        \u001b[49m\u001b[43mstartupinfo\u001b[49m\u001b[43m,\u001b[49m\u001b[43m \u001b[49m\u001b[43mcreationflags\u001b[49m\u001b[43m,\u001b[49m\u001b[43m \u001b[49m\u001b[43mshell\u001b[49m\u001b[43m,\u001b[49m\n\u001b[0;32m   1027\u001b[0m \u001b[43m                        \u001b[49m\u001b[43mp2cread\u001b[49m\u001b[43m,\u001b[49m\u001b[43m \u001b[49m\u001b[43mp2cwrite\u001b[49m\u001b[43m,\u001b[49m\n\u001b[0;32m   1028\u001b[0m \u001b[43m                        \u001b[49m\u001b[43mc2pread\u001b[49m\u001b[43m,\u001b[49m\u001b[43m \u001b[49m\u001b[43mc2pwrite\u001b[49m\u001b[43m,\u001b[49m\n\u001b[0;32m   1029\u001b[0m \u001b[43m                        \u001b[49m\u001b[43merrread\u001b[49m\u001b[43m,\u001b[49m\u001b[43m \u001b[49m\u001b[43merrwrite\u001b[49m\u001b[43m,\u001b[49m\n\u001b[0;32m   1030\u001b[0m \u001b[43m                        \u001b[49m\u001b[43mrestore_signals\u001b[49m\u001b[43m,\u001b[49m\n\u001b[0;32m   1031\u001b[0m \u001b[43m                        \u001b[49m\u001b[43mgid\u001b[49m\u001b[43m,\u001b[49m\u001b[43m \u001b[49m\u001b[43mgids\u001b[49m\u001b[43m,\u001b[49m\u001b[43m \u001b[49m\u001b[43muid\u001b[49m\u001b[43m,\u001b[49m\u001b[43m \u001b[49m\u001b[43mumask\u001b[49m\u001b[43m,\u001b[49m\n\u001b[0;32m   1032\u001b[0m \u001b[43m                        \u001b[49m\u001b[43mstart_new_session\u001b[49m\u001b[43m,\u001b[49m\u001b[43m \u001b[49m\u001b[43mprocess_group\u001b[49m\u001b[43m)\u001b[49m\n\u001b[0;32m   1033\u001b[0m \u001b[38;5;28;01mexcept\u001b[39;00m:\n\u001b[0;32m   1034\u001b[0m     \u001b[38;5;66;03m# Cleanup if the child failed starting.\u001b[39;00m\n\u001b[0;32m   1035\u001b[0m     \u001b[38;5;28;01mfor\u001b[39;00m f \u001b[38;5;129;01min\u001b[39;00m \u001b[38;5;28mfilter\u001b[39m(\u001b[38;5;28;01mNone\u001b[39;00m, (\u001b[38;5;28mself\u001b[39m\u001b[38;5;241m.\u001b[39mstdin, \u001b[38;5;28mself\u001b[39m\u001b[38;5;241m.\u001b[39mstdout, \u001b[38;5;28mself\u001b[39m\u001b[38;5;241m.\u001b[39mstderr)):\n",
      "File \u001b[1;32m~\\AppData\\Local\\Programs\\Python\\Python311\\Lib\\subprocess.py:1493\u001b[0m, in \u001b[0;36mPopen._execute_child\u001b[1;34m(self, args, executable, preexec_fn, close_fds, pass_fds, cwd, env, startupinfo, creationflags, shell, p2cread, p2cwrite, c2pread, c2pwrite, errread, errwrite, unused_restore_signals, unused_gid, unused_gids, unused_uid, unused_umask, unused_start_new_session, unused_process_group)\u001b[0m\n\u001b[0;32m   1491\u001b[0m \u001b[38;5;66;03m# Start the process\u001b[39;00m\n\u001b[0;32m   1492\u001b[0m \u001b[38;5;28;01mtry\u001b[39;00m:\n\u001b[1;32m-> 1493\u001b[0m     hp, ht, pid, tid \u001b[38;5;241m=\u001b[39m \u001b[43m_winapi\u001b[49m\u001b[38;5;241;43m.\u001b[39;49m\u001b[43mCreateProcess\u001b[49m\u001b[43m(\u001b[49m\u001b[43mexecutable\u001b[49m\u001b[43m,\u001b[49m\u001b[43m \u001b[49m\u001b[43margs\u001b[49m\u001b[43m,\u001b[49m\n\u001b[0;32m   1494\u001b[0m \u001b[43m                             \u001b[49m\u001b[38;5;66;43;03m# no special security\u001b[39;49;00m\n\u001b[0;32m   1495\u001b[0m \u001b[43m                             \u001b[49m\u001b[38;5;28;43;01mNone\u001b[39;49;00m\u001b[43m,\u001b[49m\u001b[43m \u001b[49m\u001b[38;5;28;43;01mNone\u001b[39;49;00m\u001b[43m,\u001b[49m\n\u001b[0;32m   1496\u001b[0m \u001b[43m                             \u001b[49m\u001b[38;5;28;43mint\u001b[39;49m\u001b[43m(\u001b[49m\u001b[38;5;129;43;01mnot\u001b[39;49;00m\u001b[43m \u001b[49m\u001b[43mclose_fds\u001b[49m\u001b[43m)\u001b[49m\u001b[43m,\u001b[49m\n\u001b[0;32m   1497\u001b[0m \u001b[43m                             \u001b[49m\u001b[43mcreationflags\u001b[49m\u001b[43m,\u001b[49m\n\u001b[0;32m   1498\u001b[0m \u001b[43m                             \u001b[49m\u001b[43menv\u001b[49m\u001b[43m,\u001b[49m\n\u001b[0;32m   1499\u001b[0m \u001b[43m                             \u001b[49m\u001b[43mcwd\u001b[49m\u001b[43m,\u001b[49m\n\u001b[0;32m   1500\u001b[0m \u001b[43m                             \u001b[49m\u001b[43mstartupinfo\u001b[49m\u001b[43m)\u001b[49m\n\u001b[0;32m   1501\u001b[0m \u001b[38;5;28;01mfinally\u001b[39;00m:\n\u001b[0;32m   1502\u001b[0m     \u001b[38;5;66;03m# Child is launched. Close the parent's copy of those pipe\u001b[39;00m\n\u001b[0;32m   1503\u001b[0m     \u001b[38;5;66;03m# handles that only the child should have open.  You need\u001b[39;00m\n\u001b[1;32m   (...)\u001b[0m\n\u001b[0;32m   1506\u001b[0m     \u001b[38;5;66;03m# pipe will not close when the child process exits and the\u001b[39;00m\n\u001b[0;32m   1507\u001b[0m     \u001b[38;5;66;03m# ReadFile will hang.\u001b[39;00m\n\u001b[0;32m   1508\u001b[0m     \u001b[38;5;28mself\u001b[39m\u001b[38;5;241m.\u001b[39m_close_pipe_fds(p2cread, p2cwrite,\n\u001b[0;32m   1509\u001b[0m                          c2pread, c2pwrite,\n\u001b[0;32m   1510\u001b[0m                          errread, errwrite)\n",
      "\u001b[1;31mFileNotFoundError\u001b[0m: [WinError 2] The system cannot find the file specified"
     ]
    }
   ],
   "source": [
    "DotExporter(udo).to_picture(\"udo.png\")"
   ]
  },
  {
   "cell_type": "code",
   "execution_count": 10,
   "id": "4a22c680",
   "metadata": {},
   "outputs": [
    {
     "name": "stdout",
     "output_type": "stream",
     "text": [
      "Requirement already satisfied: treelib in c:\\users\\hassan ashfaq\\appdata\\local\\programs\\python\\python311\\lib\\site-packages (1.6.1)\n",
      "Requirement already satisfied: future in c:\\users\\hassan ashfaq\\appdata\\local\\programs\\python\\python311\\lib\\site-packages (from treelib) (0.18.3)\n",
      "Note: you may need to restart the kernel to use updated packages.\n"
     ]
    },
    {
     "name": "stderr",
     "output_type": "stream",
     "text": [
      "WARNING: Skipping C:\\Users\\Hassan Ashfaq\\AppData\\Local\\Programs\\Python\\Python311\\Lib\\site-packages\\future-0.18.3-py3.11.egg-info due to invalid metadata entry 'name'\n"
     ]
    }
   ],
   "source": [
    "pip install treelib"
   ]
  },
  {
   "cell_type": "code",
   "execution_count": 11,
   "id": "295c359f",
   "metadata": {},
   "outputs": [
    {
     "name": "stdout",
     "output_type": "stream",
     "text": [
      "Harry\n",
      "├── Bill\n",
      "└── Jane\n",
      "    ├── Diane\n",
      "    │   └── Mary\n",
      "    └── Mark\n",
      "\n"
     ]
    }
   ],
   "source": [
    " from treelib import Node, Tree\n",
    " tree = Tree()\n",
    " tree.create_node(\"Harry\", \"harry\")  # root node\n",
    " tree.create_node(\"Jane\", \"jane\", parent=\"harry\")\n",
    " tree.create_node(\"Bill\", \"bill\", parent=\"harry\")\n",
    " tree.create_node(\"Diane\", \"diane\", parent=\"jane\")\n",
    " tree.create_node(\"Mary\", \"mary\", parent=\"diane\")\n",
    " tree.create_node(\"Mark\", \"mark\", parent=\"jane\")\n",
    " tree.show()"
   ]
  },
  {
   "cell_type": "code",
   "execution_count": 12,
   "id": "c846bbbf",
   "metadata": {},
   "outputs": [
    {
     "name": "stdout",
     "output_type": "stream",
     "text": [
      "A\n",
      "├── B\n",
      "│   ├── D\n",
      "│   │   ├── H\n",
      "│   │   └── I\n",
      "│   └── E\n",
      "│       ├── J\n",
      "│       │   └── N\n",
      "│       └── K\n",
      "│           └── O\n",
      "└── C\n",
      "    ├── F\n",
      "    └── G\n",
      "        ├── L\n",
      "        └── M\n",
      "\n"
     ]
    }
   ],
   "source": [
    " from treelib import Node, Tree\n",
    " tree = Tree()\n",
    " tree.create_node(\"A\", \"A\")  # root node\n",
    " tree.create_node(\"B\", \"B\", parent=\"A\")\n",
    " tree.create_node(\"C\", \"C\", parent=\"A\")\n",
    " tree.create_node(\"D\", \"D\", parent=\"B\")\n",
    " tree.create_node(\"E\", \"E\", parent=\"B\")\n",
    " tree.create_node(\"F\", \"F\", parent=\"C\")\n",
    " tree.create_node(\"G\", \"G\", parent=\"C\")\n",
    " tree.create_node(\"H\", \"H\", parent=\"D\")\n",
    " tree.create_node(\"I\", \"I\", parent=\"D\")\n",
    " tree.create_node(\"J\", \"J\", parent=\"E\")\n",
    " tree.create_node(\"K\", \"K\", parent=\"E\")\n",
    " tree.create_node(\"L\", \"L\", parent=\"G\")\n",
    " tree.create_node(\"M\", \"M\", parent=\"G\")\n",
    " tree.create_node(\"N\", \"N\", parent=\"J\")\n",
    " tree.create_node(\"O\", \"O\", parent=\"K\")\n",
    " tree.show()"
   ]
  },
  {
   "cell_type": "code",
   "execution_count": 1,
   "id": "4aa3e38f",
   "metadata": {},
   "outputs": [],
   "source": [
    "import turtle   "
   ]
  },
  {
   "cell_type": "code",
   "execution_count": 2,
   "id": "375bb298",
   "metadata": {},
   "outputs": [],
   "source": [
    "ttl = turtle.Turtle()    "
   ]
  },
  {
   "cell_type": "code",
   "execution_count": 16,
   "id": "8e116ba2",
   "metadata": {},
   "outputs": [],
   "source": [
    "screen=turtle.Screen()"
   ]
  },
  {
   "cell_type": "code",
   "execution_count": null,
   "id": "b183350e",
   "metadata": {},
   "outputs": [],
   "source": []
  }
 ],
 "metadata": {
  "kernelspec": {
   "display_name": "Python 3 (ipykernel)",
   "language": "python",
   "name": "python3"
  },
  "language_info": {
   "codemirror_mode": {
    "name": "ipython",
    "version": 3
   },
   "file_extension": ".py",
   "mimetype": "text/x-python",
   "name": "python",
   "nbconvert_exporter": "python",
   "pygments_lexer": "ipython3",
   "version": "3.11.1"
  }
 },
 "nbformat": 4,
 "nbformat_minor": 5
}
