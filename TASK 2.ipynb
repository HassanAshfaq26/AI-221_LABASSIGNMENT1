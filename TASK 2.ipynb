{
 "cells": [
  {
   "cell_type": "code",
   "execution_count": 1,
   "id": "29ca14ff",
   "metadata": {},
   "outputs": [],
   "source": [
    "# TASK 2"
   ]
  },
  {
   "cell_type": "code",
   "execution_count": 6,
   "id": "56b1dbee",
   "metadata": {},
   "outputs": [],
   "source": [
    "import numpy as np"
   ]
  },
  {
   "cell_type": "code",
   "execution_count": 10,
   "id": "a9c00750",
   "metadata": {},
   "outputs": [],
   "source": [
    "import matplotlib.pyplot as plt"
   ]
  },
  {
   "cell_type": "code",
   "execution_count": 2,
   "id": "394da0a0",
   "metadata": {},
   "outputs": [],
   "source": [
    "class Node:\n",
    "   def __init__(self, data):\n",
    "      self.left = None\n",
    "      self.right = None\n",
    "      self.data = data\n",
    "\n",
    "   def insert(self, data):\n",
    "      if self.data:\n",
    "         if data < self.data:\n",
    "            if self.left is None:\n",
    "               self.left = Node(data)\n",
    "            else:\n",
    "               self.left.insert(data)\n",
    "         elif data > self.data:\n",
    "               if self.right is None:\n",
    "                  self.right = Node(data)\n",
    "               else:\n",
    "                  self.right.insert(data)\n",
    "      else:\n",
    "         self.data = data\n",
    "\n",
    "   def PrintTree(self,val):\n",
    "      if self.data==val:\n",
    "         return\n",
    "      if self.left:\n",
    "         self.left.PrintTree(val)\n",
    "      if self.right:\n",
    "         self.right.PrintTree(val)\n",
    "    \n",
    "   def bfs(self,val):\n",
    "        queue = []\n",
    "        queue.append(self)\n",
    "        while len(queue) > 0:\n",
    "           current_node = queue.pop(0)\n",
    "           if current_node.data==val:\n",
    "              return\n",
    "           if current_node.left is not None:\n",
    "              queue.append(current_node.left)\n",
    "           if current_node.right is not None:\n",
    "              queue.append(current_node.right)\n"
   ]
  },
  {
   "cell_type": "code",
   "execution_count": 3,
   "id": "43c73dc9",
   "metadata": {},
   "outputs": [
    {
     "name": "stdout",
     "output_type": "stream",
     "text": [
      "[-0.0009996891021728516, 0.0, -0.0010013580322265625, 0.0]\n",
      "[0.0, -0.0010001659393310547, 0.0, -0.0009999275207519531]\n"
     ]
    }
   ],
   "source": [
    "import random\n",
    "import time\n",
    "\n",
    "list_of_ranges=[1000,40000,80000,100000,200000]\n",
    "dfs=[]\n",
    "for k in range(0,4):\n",
    "   inputList=[]\n",
    "   for i in range(list_of_ranges[k],list_of_ranges[k+1]):\n",
    "      inputList.append(i)\n",
    "   random.shuffle(inputList)\n",
    "   data_entry=Node(inputList[0])\n",
    "   for i in range(1,998):\n",
    "      if i==780:\n",
    "         num=inputList[i]\n",
    "      data_entry.insert(inputList[i])\n",
    "   start=time.time()\n",
    "   data_entry.PrintTree(num)\n",
    "   end=time.time()\n",
    "   dfs.append(start-end)\n",
    "print(dfs)\n",
    "\n",
    "BFST=[]\n",
    "for k in range(0,4):\n",
    "   inputList=[]\n",
    "   for i in range(list_of_ranges[k],list_of_ranges[k+1]):\n",
    "      inputList.append(i)\n",
    "   random.shuffle(inputList)\n",
    "   data_entry=Node(inputList[0])\n",
    "   for i in range(1,998):\n",
    "      if i==780:\n",
    "         num=inputList[i]\n",
    "      data_entry.insert(inputList[i])\n",
    "   start=time.time()\n",
    "   data_entry.bfs(num)\n",
    "   end=time.time()\n",
    "   BFST.append(start-end)\n",
    "print(BFST)"
   ]
  }
 ],
 "metadata": {
  "kernelspec": {
   "display_name": "Python 3 (ipykernel)",
   "language": "python",
   "name": "python3"
  },
  "language_info": {
   "codemirror_mode": {
    "name": "ipython",
    "version": 3
   },
   "file_extension": ".py",
   "mimetype": "text/x-python",
   "name": "python",
   "nbconvert_exporter": "python",
   "pygments_lexer": "ipython3",
   "version": "3.11.1"
  }
 },
 "nbformat": 4,
 "nbformat_minor": 5
}
