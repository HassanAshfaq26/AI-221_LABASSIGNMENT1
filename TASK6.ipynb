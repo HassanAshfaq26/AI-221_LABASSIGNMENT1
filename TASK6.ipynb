{
 "cells": [
  {
   "cell_type": "code",
   "execution_count": 1,
   "id": "9d119b0f",
   "metadata": {},
   "outputs": [],
   "source": [
    "#TASK6"
   ]
  },
  {
   "cell_type": "code",
   "execution_count": 3,
   "id": "e0f1ab0a",
   "metadata": {},
   "outputs": [],
   "source": [
    "def is_valid(board, row, col):\n",
    "    \n",
    "    # check the column\n",
    "    for i in range(row):\n",
    "        if board[i] == col:\n",
    "            return False\n",
    "    # check the diagonal\n",
    "    for i, j in zip(range(row-1, -1, -1), range(col-1, -1, -1)):\n",
    "        if board[i] == j:\n",
    "            return False\n",
    "    for i, j in zip(range(row-1, -1, -1), range(col+1, len(board))):\n",
    "        if board[i] == j:\n",
    "            return False\n",
    "    return True\n",
    "\n",
    "def n_queens_helper(n, row, board, solutions):\n",
    "    \n",
    "    if row == n:\n",
    "        # we found a valid solution\n",
    "        solutions.append(board[:])\n",
    "        return\n",
    "    for col in range(n):\n",
    "        if is_valid(board, row, col):\n",
    "            board[row] = col\n",
    "            n_queens_helper(n, row+1, board, solutions)\n",
    "\n",
    "def n_queens(n):\n",
    "    \n",
    "    board = [-1] * n\n",
    "    solutions = []\n",
    "    n_queens_helper(n, 0, board, solutions)\n",
    "    return solutions\n",
    "\n",
    "def dfs_n_queens(n):\n",
    "    solutions = []\n",
    "    def dfs_helper(queens, xy_dif, xy_sum):\n",
    "        y = len(queens)\n",
    "        if y == n:\n",
    "            solutions.append(queens)\n",
    "            return\n",
    "        for x in range(n):\n",
    "            if x not in queens and (y-x) not in xy_dif and (y+x) not in xy_sum:\n",
    "                dfs_helper(queens+[x], xy_dif+[y-x], xy_sum+[y+x])\n",
    "    dfs_helper([],[],[])\n",
    "    return solutions\n",
    "\n",
    "def bfs(n):\n",
    "    queue = [[(i, 0)] for i in range(n)]\n",
    "    while queue:\n",
    "        path = queue.pop(0)\n",
    "        if len(path) == n:\n",
    "            return path\n",
    "        col = len(path)\n",
    "        for row in range(n):\n",
    "            if all(path[i][1] != row and abs(path[i][1] - row) != col - i for i in range(col)):\n",
    "                queue.append(path + [(col, row)])\n",
    "    return None"
   ]
  },
  {
   "cell_type": "code",
   "execution_count": null,
   "id": "338c5602",
   "metadata": {},
   "outputs": [],
   "source": []
  }
 ],
 "metadata": {
  "kernelspec": {
   "display_name": "Python 3 (ipykernel)",
   "language": "python",
   "name": "python3"
  },
  "language_info": {
   "codemirror_mode": {
    "name": "ipython",
    "version": 3
   },
   "file_extension": ".py",
   "mimetype": "text/x-python",
   "name": "python",
   "nbconvert_exporter": "python",
   "pygments_lexer": "ipython3",
   "version": "3.11.1"
  }
 },
 "nbformat": 4,
 "nbformat_minor": 5
}
