{
 "cells": [
  {
   "cell_type": "code",
   "execution_count": 4,
   "id": "03af3809",
   "metadata": {},
   "outputs": [
    {
     "name": "stdout",
     "output_type": "stream",
     "text": [
      "Requirement already satisfied: binarytree in c:\\users\\hassan ashfaq\\appdata\\local\\programs\\python\\python311\\lib\\site-packages (6.5.1)Note: you may need to restart the kernel to use updated packages.\n"
     ]
    },
    {
     "name": "stderr",
     "output_type": "stream",
     "text": [
      "\n",
      "[notice] A new release of pip available: 22.3.1 -> 23.0.1\n",
      "[notice] To update, run: C:\\Users\\Hassan Ashfaq\\AppData\\Local\\Programs\\Python\\Python311\\python.exe -m pip install --upgrade pip\n"
     ]
    },
    {
     "name": "stdout",
     "output_type": "stream",
     "text": [
      "\n",
      "Requirement already satisfied: graphviz in c:\\users\\hassan ashfaq\\appdata\\local\\programs\\python\\python311\\lib\\site-packages (from binarytree) (0.20.1)\n",
      "Requirement already satisfied: setuptools>=60.8.2 in c:\\users\\hassan ashfaq\\appdata\\local\\programs\\python\\python311\\lib\\site-packages (from binarytree) (65.5.0)\n",
      "Requirement already satisfied: setuptools-scm[toml]>=5.0.1 in c:\\users\\hassan ashfaq\\appdata\\local\\programs\\python\\python311\\lib\\site-packages (from binarytree) (7.1.0)\n",
      "Requirement already satisfied: packaging>=20.0 in c:\\users\\hassan ashfaq\\appdata\\local\\programs\\python\\python311\\lib\\site-packages (from setuptools-scm[toml]>=5.0.1->binarytree) (22.0)\n",
      "Requirement already satisfied: typing-extensions in c:\\users\\hassan ashfaq\\appdata\\local\\programs\\python\\python311\\lib\\site-packages (from setuptools-scm[toml]>=5.0.1->binarytree) (4.5.0)\n"
     ]
    }
   ],
   "source": [
    "pip install binarytree"
   ]
  },
  {
   "cell_type": "code",
   "execution_count": 5,
   "id": "8cd2de90",
   "metadata": {},
   "outputs": [
    {
     "name": "stdout",
     "output_type": "stream",
     "text": [
      "Requirement already satisfied: pip in c:\\users\\hassan ashfaq\\appdata\\local\\programs\\python\\python311\\lib\\site-packages (22.3.1)Note: you may need to restart the kernel to use updated packages.\n",
      "\n",
      "Collecting pip\n",
      "  Using cached pip-23.0.1-py3-none-any.whl (2.1 MB)\n",
      "Installing collected packages: pip\n",
      "  Attempting uninstall: pip\n",
      "    Found existing installation: pip 22.3.1\n",
      "    Uninstalling pip-22.3.1:\n",
      "      Successfully uninstalled pip-22.3.1\n",
      "Successfully installed pip-23.0.1\n"
     ]
    }
   ],
   "source": [
    "pip install --upgrade pip"
   ]
  },
  {
   "cell_type": "code",
   "execution_count": 6,
   "id": "3f8ab93d",
   "metadata": {},
   "outputs": [],
   "source": [
    "class Node:\n",
    "\n",
    "    def __init__(self, value, left=None, right=None):\n",
    "        self.value = value  # The node value (float/int/str)\n",
    "        self.left = left    # Left child\n",
    "        self.right = right  # Right child"
   ]
  },
  {
   "cell_type": "code",
   "execution_count": 7,
   "id": "e8180c48",
   "metadata": {},
   "outputs": [
    {
     "name": "stdout",
     "output_type": "stream",
     "text": [
      "\n",
      "       ____11__\n",
      "      /        \\\n",
      "    _14         5__\n",
      "   /   \\       /   \\\n",
      "  10    13    6     12\n",
      " /                 /  \\\n",
      "3                 1    4\n",
      "\n"
     ]
    }
   ],
   "source": [
    "from binarytree import tree, bst, heap\n",
    "\n",
    "# Generate a random binary tree and return its root node.\n",
    "my_tree = tree(height=3, is_perfect=False)\n",
    "\n",
    "# Generate a random BST and return its root node.\n",
    "my_bst = bst(height=3, is_perfect=True)\n",
    "\n",
    "# Generate a random max heap and return its root node.\n",
    "my_heap = heap(height=3, is_max=True, is_perfect=False)\n",
    "\n",
    "# Pretty-print the trees in stdout.\n",
    "print(my_tree)"
   ]
  },
  {
   "cell_type": "code",
   "execution_count": 13,
   "id": "28b5679c",
   "metadata": {},
   "outputs": [
    {
     "name": "stdout",
     "output_type": "stream",
     "text": [
      "10\n",
      "14\n",
      "19\n",
      "27\n",
      "31\n",
      "35\n"
     ]
    }
   ],
   "source": [
    "# Creating node class\n",
    "class Node:\n",
    "    def __init__(self, data):\n",
    "        self.data = data\n",
    "        self.leftChild = None\n",
    "        self.rightChild = None\n",
    "\n",
    "# Function to insert in BST\n",
    "    def insert(self, data):\n",
    "        # if value is lesser than the value of the parent node\n",
    "        if data < self.data:\n",
    "            if self.leftChild:\n",
    "                # if we still need to move towards the left subtree\n",
    "                self.leftChild.insert(data)\n",
    "            else:\n",
    "                self.leftChild = Node(data)\n",
    "                return\n",
    "        # if value is greater than the value of the parent node        \n",
    "        else:\n",
    "            if self.rightChild:\n",
    "                # if we still need to move towards the right subtree\n",
    "                self.rightChild.insert(data)\n",
    "            else:\n",
    "                self.rightChild = Node(data)\n",
    "                return\n",
    "\n",
    "    # function to print a BST\n",
    "    def PrintTree(self):\n",
    "        if self.leftChild:\n",
    "            self.leftChild.PrintTree()\n",
    "        print( self.data),\n",
    "        if self.rightChild:\n",
    "            self.rightChild.PrintTree()\n",
    "\n",
    "# Creating root node\n",
    "root = Node(27)\n",
    "# Inserting values in BST\n",
    "root.insert(14)\n",
    "root.insert(35)\n",
    "root.insert(31)\n",
    "root.insert(10)\n",
    "root.insert(19)\n",
    "# printing BST\n",
    "root.PrintTree()"
   ]
  },
  {
   "cell_type": "code",
   "execution_count": 27,
   "id": "836e8900",
   "metadata": {},
   "outputs": [
    {
     "name": "stdout",
     "output_type": "stream",
     "text": [
      "\n",
      "          ________________60___\n",
      "         /                     \\\n",
      "    ____15______               _75___\n",
      "   /            \\             /      \\\n",
      "  10            _25          70      _80\n",
      " /  \\          /   \\                /   \\\n",
      "5    12      _23    26             77    92\n",
      "            /         \\\n",
      "           21          30\n",
      "\n"
     ]
    }
   ],
   "source": [
    "from binarytree import build\n",
    "\n",
    "# Build a tree from list representation\n",
    "values = [60,15,75,10,25,70,80,5,12,23,26,None,None,77,92,None,None,None,None,21,None,None,30]\n",
    "root = build(values)\n",
    "print(root)"
   ]
  },
  {
   "cell_type": "code",
   "execution_count": null,
   "id": "f5b1b19d",
   "metadata": {},
   "outputs": [],
   "source": [
    "from binarytree import Node\n",
    "\n",
    "root = Node(1)\n",
    "root.left = Node(2)\n",
    "root.right = Node(3)\n",
    "root.left.right = Node(4)\n"
   ]
  }
 ],
 "metadata": {
  "kernelspec": {
   "display_name": "Python 3 (ipykernel)",
   "language": "python",
   "name": "python3"
  },
  "language_info": {
   "codemirror_mode": {
    "name": "ipython",
    "version": 3
   },
   "file_extension": ".py",
   "mimetype": "text/x-python",
   "name": "python",
   "nbconvert_exporter": "python",
   "pygments_lexer": "ipython3",
   "version": "3.11.1"
  }
 },
 "nbformat": 4,
 "nbformat_minor": 5
}
