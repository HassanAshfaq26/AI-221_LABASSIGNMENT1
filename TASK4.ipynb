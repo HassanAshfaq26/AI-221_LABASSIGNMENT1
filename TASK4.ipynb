{
 "cells": [
  {
   "cell_type": "code",
   "execution_count": null,
   "id": "6698872c",
   "metadata": {},
   "outputs": [],
   "source": [
    "# TASK 4 APPLYING UCS "
   ]
  },
  {
   "cell_type": "code",
   "execution_count": 25,
   "id": "91f56d41",
   "metadata": {},
   "outputs": [],
   "source": [
    "graph={\n",
    "    'S':[('A',2),('B',3),('D',5)],\n",
    "    'A':[('C',4)],\n",
    "    'B':[('D',4)],\n",
    "    'C':[('D',1),('G',2)],\n",
    "    'D':[('G',5)],\n",
    "    \n",
    "}"
   ]
  },
  {
   "cell_type": "code",
   "execution_count": 26,
   "id": "a21e3e8e",
   "metadata": {},
   "outputs": [],
   "source": [
    "def path_cost(path):\n",
    "    total_cost=0\n",
    "    for (node, cost) in path:\n",
    "        total_cost +=cost\n",
    "        return total_cost,path[-1][0]"
   ]
  },
  {
   "cell_type": "code",
   "execution_count": 27,
   "id": "4f24429f",
   "metadata": {},
   "outputs": [
    {
     "name": "stdout",
     "output_type": "stream",
     "text": [
      "(0, 'G')\n"
     ]
    }
   ],
   "source": [
    "path=[('S',0),('O', 5),('G',5)]\n",
    "print(path_cost(path))"
   ]
  },
  {
   "cell_type": "code",
   "execution_count": 28,
   "id": "2c9665ae",
   "metadata": {},
   "outputs": [],
   "source": [
    "def ucs (graph,start,goal):\n",
    "    visited=[]\n",
    "    queue=[[(start,0)]]\n",
    "    while queue:\n",
    "        queue.sort(key=path_cost)\n",
    "        path=queue.pop(0)\n",
    "        node=path[-1][0]\n",
    "        if node in visited:\n",
    "            continue\n",
    "            visited.appended(node)\n",
    "            if node==goal:\n",
    "               return path\n",
    "        else:\n",
    "            adjacent_nodes=graph.get(node,[])\n",
    "            for (node2,cost) in adjacent_nodes:\n",
    "                new_path=path.copy()\n",
    "                new_path.append((node2,cost))\n",
    "                queue.append(new_path)"
   ]
  },
  {
   "cell_type": "code",
   "execution_count": 22,
   "id": "f17c34e8",
   "metadata": {},
   "outputs": [
    {
     "name": "stdout",
     "output_type": "stream",
     "text": [
      "None\n"
     ]
    }
   ],
   "source": [
    "solution=ucs(graph,'S','G')\n",
    "print(solution)\n",
    "print(path_cost(solution)[0])"
   ]
  },
  {
   "cell_type": "code",
   "execution_count": 35,
   "id": "ce1c4fc3",
   "metadata": {},
   "outputs": [
    {
     "ename": "NameError",
     "evalue": "name 'PriorityQueue' is not defined",
     "output_type": "error",
     "traceback": [
      "\u001b[1;31m---------------------------------------------------------------------------\u001b[0m",
      "\u001b[1;31mNameError\u001b[0m                                 Traceback (most recent call last)",
      "Cell \u001b[1;32mIn[35], line 31\u001b[0m\n\u001b[0;32m     27\u001b[0m                     queue\u001b[38;5;241m.\u001b[39mput((total_cost, I))\n\u001b[0;32m     30\u001b[0m graph\u001b[38;5;241m=\u001b[39mGraph()\n\u001b[1;32m---> 31\u001b[0m s\u001b[38;5;241m=\u001b[39m\u001b[43mucs\u001b[49m\u001b[43m(\u001b[49m\u001b[43mgraph\u001b[49m\u001b[43m,\u001b[49m\u001b[38;5;124;43m\"\u001b[39;49m\u001b[38;5;124;43mArad\u001b[39;49m\u001b[38;5;124;43m\"\u001b[39;49m\u001b[43m,\u001b[49m\u001b[38;5;124;43m\"\u001b[39;49m\u001b[38;5;124;43mBucharest\u001b[39;49m\u001b[38;5;124;43m\"\u001b[39;49m\u001b[43m)\u001b[49m\n\u001b[0;32m     32\u001b[0m \u001b[38;5;28mprint\u001b[39m(s)\n",
      "Cell \u001b[1;32mIn[35], line 16\u001b[0m, in \u001b[0;36mucs\u001b[1;34m(graph, start, goal)\u001b[0m\n\u001b[0;32m     14\u001b[0m visited \u001b[38;5;241m=\u001b[39m \u001b[38;5;28mset\u001b[39m()\n\u001b[0;32m     15\u001b[0m path\u001b[38;5;241m=\u001b[39m[]\n\u001b[1;32m---> 16\u001b[0m queue \u001b[38;5;241m=\u001b[39m \u001b[43mPriorityQueue\u001b[49m()\n\u001b[0;32m     17\u001b[0m queue\u001b[38;5;241m.\u001b[39mput((\u001b[38;5;241m0\u001b[39m, start))\n\u001b[0;32m     18\u001b[0m \u001b[38;5;28;01mwhile\u001b[39;00m queue:\n",
      "\u001b[1;31mNameError\u001b[0m: name 'PriorityQueue' is not defined"
     ]
    }
   ],
   "source": [
    "class Graph:\n",
    "    def __init__(self):\n",
    "        self.edges={\"Arad\":[\"Zerind\",\"Timisoara\",\"Sibiu\"],\"Zerind\":[\"Oradea\"],\"Oradea\":[\"Sibiu\"],\"Timisoara\":[\"Lugoj\"],\"Lugoj\":[\"Mehadia\"],\"Mehadia\":[\"Dobreta\"],\"Dobreta\":[\"Craiova\"],\"Sibiu\":[\"Fagaras\",\"RimnicuVilcea\"],\"Craiova\":[\"RimnicuVilcea\",\"Pitesti\"],\"RimnicuVilcea\":[\"Craiova\",\"Pitesti\"],\"Fagaras\":[\"Bucharest\"],\"Pitesti\":[\"Bucharest\"],\"Bucharest\":[\"Giurgiu\",\"Urziceni\"],\"Urziceni\":[\"Hirsova\",\"Vaslui\"],\"Hirsova\":[\"Eforie\"],\"Vaslui\":[\"Lasi\"],\"Lasi\":[\"Neamt\"]}\n",
    "        self.weights={\"AradZerind\":75,\"ZerindOradea\":71,\"AradTimisoara\":118,\"TimisoaraLugoj\":111,\"LugojMehadia\":70,\"MehadiaDobreta\":75,\"AradSibiu\":140,\"OradeaSibiu\":151,\"DobretaCraiova\":120,\"CraiovaRimnicuVilcea\":146,\"CraiovaPitesti\":138,\"SibiuFagaras\":99,\"SibiuRimnicuVilcea\":80,\"RimnicuVilceaPitesti\":97,\"RimnicuVilceaCraiova\":146,\"FagarasBucharest\":211,\"PitestiBucharest\":101,\"BucharestGiurgiu\":90,\"BucharestUrziceni\":85,\"UrziceniHirsova\":98,\"HirsovaEforie\":86,\"UrziceniVaslui\":142,\"VasluiLasi\":92,\"LasiNeamt\":87}\n",
    "    def neighbors(self,node):\n",
    "        return self.edges[node]\n",
    "    def get_cost(self,from_node,to_node):\n",
    "        return self.weights[(from_node + to_node)]\n",
    "\n",
    "\n",
    "\n",
    "def ucs(graph, start, goal):\n",
    "    global total_cost\n",
    "    visited = set()\n",
    "    path=[]\n",
    "    queue = PriorityQueue()\n",
    "    queue.put((0, start))\n",
    "    while queue:\n",
    "        cost, node = queue.get()\n",
    "        if node not in visited:\n",
    "            visited.add(node)\n",
    "            if node == goal:\n",
    "                return visited\n",
    "            for i in graph.neighbors(node):\n",
    "                if i not in visited:\n",
    "                    total_cost = cost + graph.get_cost(node, i)\n",
    "                    queue.put((total_cost, I))\n",
    "\n",
    "\n",
    "graph=Graph()\n",
    "s=ucs(graph,\"Arad\",\"Bucharest\")\n",
    "print(s)"
   ]
  },
  {
   "cell_type": "code",
   "execution_count": null,
   "id": "55722c8f",
   "metadata": {},
   "outputs": [],
   "source": []
  }
 ],
 "metadata": {
  "kernelspec": {
   "display_name": "Python 3 (ipykernel)",
   "language": "python",
   "name": "python3"
  },
  "language_info": {
   "codemirror_mode": {
    "name": "ipython",
    "version": 3
   },
   "file_extension": ".py",
   "mimetype": "text/x-python",
   "name": "python",
   "nbconvert_exporter": "python",
   "pygments_lexer": "ipython3",
   "version": "3.11.1"
  }
 },
 "nbformat": 4,
 "nbformat_minor": 5
}
